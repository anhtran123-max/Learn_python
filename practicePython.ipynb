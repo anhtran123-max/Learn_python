{
  "nbformat": 4,
  "nbformat_minor": 0,
  "metadata": {
    "colab": {
      "name": "practicePython.ipynb",
      "provenance": [],
      "collapsed_sections": [],
      "authorship_tag": "ABX9TyPBcgl2uwLkpPenbuP81pk6",
      "include_colab_link": true
    },
    "kernelspec": {
      "name": "python3",
      "display_name": "Python 3"
    },
    "language_info": {
      "name": "python"
    }
  },
  "cells": [
    {
      "cell_type": "markdown",
      "metadata": {
        "id": "view-in-github",
        "colab_type": "text"
      },
      "source": [
        "<a href=\"https://colab.research.google.com/github/anhtran123-max/practice_python/blob/master/practicePython.ipynb\" target=\"_parent\"><img src=\"https://colab.research.google.com/assets/colab-badge.svg\" alt=\"Open In Colab\"/></a>"
      ]
    },
    {
      "cell_type": "markdown",
      "source": [
        "String"
      ],
      "metadata": {
        "id": "TiCOaPQ16wsu"
      }
    },
    {
      "cell_type": "code",
      "execution_count": null,
      "metadata": {
        "colab": {
          "base_uri": "https://localhost:8080/"
        },
        "id": "Wju3Ec2V6HmP",
        "outputId": "885ec5ff-d195-4241-d7b0-5c14c6adcee3"
      },
      "outputs": [
        {
          "output_type": "stream",
          "name": "stdout",
          "text": [
            "ello\n"
          ]
        }
      ],
      "source": [
        "b = \"Hello, World!\"\n",
        "print(b[1:5])"
      ]
    },
    {
      "cell_type": "code",
      "source": [
        "b=\"hello world\"\n",
        "print(b[5:])"
      ],
      "metadata": {
        "colab": {
          "base_uri": "https://localhost:8080/"
        },
        "id": "__TWd4RZ6Z-N",
        "outputId": "cb609374-e9fc-4a1f-9b86-7cf3d976e2ae"
      },
      "execution_count": null,
      "outputs": [
        {
          "output_type": "stream",
          "name": "stdout",
          "text": [
            " world\n"
          ]
        }
      ]
    },
    {
      "cell_type": "code",
      "source": [
        "b = \"Hello, World!\"\n",
        "print(b[-5:-2])\n"
      ],
      "metadata": {
        "colab": {
          "base_uri": "https://localhost:8080/"
        },
        "id": "KaDMPgwm6tt1",
        "outputId": "fad27838-a2b6-4808-e0b0-8acc990f4058"
      },
      "execution_count": null,
      "outputs": [
        {
          "output_type": "stream",
          "name": "stdout",
          "text": [
            "orl\n"
          ]
        }
      ]
    },
    {
      "cell_type": "markdown",
      "source": [
        "The upper() method returns the string in upper case:"
      ],
      "metadata": {
        "id": "7xVlBLxt64U2"
      }
    },
    {
      "cell_type": "code",
      "source": [
        "a = \"Hello, World!\"\n",
        "print(a.upper())"
      ],
      "metadata": {
        "colab": {
          "base_uri": "https://localhost:8080/"
        },
        "id": "egB3H7Ds60Wx",
        "outputId": "94f1d00e-f26e-4a6f-d250-ca38db2e2356"
      },
      "execution_count": null,
      "outputs": [
        {
          "output_type": "stream",
          "name": "stdout",
          "text": [
            "HELLO, WORLD!\n"
          ]
        }
      ]
    },
    {
      "cell_type": "markdown",
      "source": [
        "The lower() method returns the string in lower case:"
      ],
      "metadata": {
        "id": "Ot-0GoGN7Mru"
      }
    },
    {
      "cell_type": "code",
      "source": [
        "a = \"Hello, World!\"\n",
        "print(a.lower())"
      ],
      "metadata": {
        "colab": {
          "base_uri": "https://localhost:8080/"
        },
        "id": "vOG3dN2l60TI",
        "outputId": "14c8c3df-ad3b-48ab-c211-d8254c855771"
      },
      "execution_count": null,
      "outputs": [
        {
          "output_type": "stream",
          "name": "stdout",
          "text": [
            "hello, world!\n"
          ]
        }
      ]
    },
    {
      "cell_type": "markdown",
      "source": [
        "The strip() method removes any whitespace from the beginning or the end:"
      ],
      "metadata": {
        "id": "8nbf3HNY7UW-"
      }
    },
    {
      "cell_type": "code",
      "source": [
        "a = \" Hello, World!\"\n",
        "print(a.strip())"
      ],
      "metadata": {
        "colab": {
          "base_uri": "https://localhost:8080/"
        },
        "id": "ASfqZvhZ60Ql",
        "outputId": "e59f4754-3a6d-4855-b97c-58517676f172"
      },
      "execution_count": null,
      "outputs": [
        {
          "output_type": "stream",
          "name": "stdout",
          "text": [
            "Hello, World!\n"
          ]
        }
      ]
    },
    {
      "cell_type": "markdown",
      "source": [
        "The replace() method replaces a string with another string:"
      ],
      "metadata": {
        "id": "cTscHA5p7gd-"
      }
    },
    {
      "cell_type": "code",
      "source": [
        "a = \"Hello, World!\"\n",
        "print(a.replace(\"H\", \"J\"))"
      ],
      "metadata": {
        "colab": {
          "base_uri": "https://localhost:8080/"
        },
        "id": "ae1wGZS960OE",
        "outputId": "908117d6-3604-4c48-c4f7-a39f8555c266"
      },
      "execution_count": null,
      "outputs": [
        {
          "output_type": "stream",
          "name": "stdout",
          "text": [
            "Jello, World!\n"
          ]
        }
      ]
    },
    {
      "cell_type": "markdown",
      "source": [
        "The split() method returns a list where the text between the specified separator becomes the list items."
      ],
      "metadata": {
        "id": "6vt8VDmk7rku"
      }
    },
    {
      "cell_type": "code",
      "source": [
        "a = \"Hello, World!\"\n",
        "print(a.split(\",\")) "
      ],
      "metadata": {
        "colab": {
          "base_uri": "https://localhost:8080/"
        },
        "id": "LPpXKcvz60Ld",
        "outputId": "2a14cdcc-9c89-4532-84d9-3e1483094602"
      },
      "execution_count": null,
      "outputs": [
        {
          "output_type": "stream",
          "name": "stdout",
          "text": [
            "['Hello', ' World!']\n"
          ]
        }
      ]
    },
    {
      "cell_type": "code",
      "source": [
        "a = \"Hello\"\n",
        "b = \", World\"\n",
        "c = a + b\n",
        "print(c)"
      ],
      "metadata": {
        "colab": {
          "base_uri": "https://localhost:8080/"
        },
        "id": "Z5i_eyRu6z9X",
        "outputId": "96e3c387-46e8-4877-b825-83489afc7804"
      },
      "execution_count": null,
      "outputs": [
        {
          "output_type": "stream",
          "name": "stdout",
          "text": [
            "Hello, World\n"
          ]
        }
      ]
    },
    {
      "cell_type": "markdown",
      "source": [
        "The format() method takes the passed arguments, formats them, and places them in the string where the placeholders {} are:"
      ],
      "metadata": {
        "id": "e7yAX1RE8Knf"
      }
    },
    {
      "cell_type": "code",
      "source": [
        "age = 36\n",
        "txt = \"My name is John, and I am {}\"\n",
        "print(txt.format(age))"
      ],
      "metadata": {
        "colab": {
          "base_uri": "https://localhost:8080/"
        },
        "id": "pChodEZe72n_",
        "outputId": "f332272b-db94-45bb-a4ab-8b3d36c0c71a"
      },
      "execution_count": null,
      "outputs": [
        {
          "output_type": "stream",
          "name": "stdout",
          "text": [
            "My name is John, and I am 36\n"
          ]
        }
      ]
    },
    {
      "cell_type": "code",
      "source": [
        "quantity = 3\n",
        "itemno = 567\n",
        "price = 49.95\n",
        "myorder = \"I want {} pieces of item {} for {} dollars.\"\n",
        "print(myorder.format(quantity, itemno, price))"
      ],
      "metadata": {
        "colab": {
          "base_uri": "https://localhost:8080/"
        },
        "id": "PL5pqDfH72lX",
        "outputId": "a465d170-2855-43e1-ca40-be3d824a32e2"
      },
      "execution_count": null,
      "outputs": [
        {
          "output_type": "stream",
          "name": "stdout",
          "text": [
            "I want 3 pieces of item 567 for 49.95 dollars.\n"
          ]
        }
      ]
    },
    {
      "cell_type": "markdown",
      "source": [
        "BOOLEANS"
      ],
      "metadata": {
        "id": "MNJ5CaOm8fe4"
      }
    },
    {
      "cell_type": "code",
      "source": [
        "print(10 > 9)\n",
        "print(10 == 9)\n",
        "print(10 < 9)"
      ],
      "metadata": {
        "colab": {
          "base_uri": "https://localhost:8080/"
        },
        "id": "lrV2gbMt72i_",
        "outputId": "671eba4a-0071-48de-a1be-ffa96055c12b"
      },
      "execution_count": null,
      "outputs": [
        {
          "output_type": "stream",
          "name": "stdout",
          "text": [
            "True\n",
            "False\n",
            "False\n"
          ]
        }
      ]
    },
    {
      "cell_type": "code",
      "source": [
        "print(bool(False))\n",
        "print(bool(None))\n",
        "print(bool(0))\n",
        "print(bool(\"\"))\n",
        "print(bool(()))\n",
        "print(bool([]))\n",
        "print(bool({}))"
      ],
      "metadata": {
        "colab": {
          "base_uri": "https://localhost:8080/"
        },
        "id": "Nx07EfMk72gG",
        "outputId": "7ed3b65e-4c7b-4926-d6ca-f90bf14046a9"
      },
      "execution_count": null,
      "outputs": [
        {
          "output_type": "stream",
          "name": "stdout",
          "text": [
            "False\n",
            "False\n",
            "False\n",
            "False\n",
            "False\n",
            "False\n",
            "False\n"
          ]
        }
      ]
    },
    {
      "cell_type": "code",
      "source": [
        "class myclass():\n",
        "  def __len__(self):\n",
        "    return 0\n",
        "\n",
        "myobj = myclass()\n",
        "print(bool(myobj))\n"
      ],
      "metadata": {
        "colab": {
          "base_uri": "https://localhost:8080/"
        },
        "id": "-mdwKHfI72dM",
        "outputId": "4a90a33f-1455-4470-cf08-4bb3c8cabea6"
      },
      "execution_count": null,
      "outputs": [
        {
          "output_type": "stream",
          "name": "stdout",
          "text": [
            "False\n"
          ]
        }
      ]
    },
    {
      "cell_type": "markdown",
      "source": [
        "https://www.w3schools.com/python/python_operators.asp"
      ],
      "metadata": {
        "id": "vOYzNJmx9uW3"
      }
    },
    {
      "cell_type": "markdown",
      "source": [
        "List"
      ],
      "metadata": {
        "id": "GZz7ClR0-3Cf"
      }
    },
    {
      "cell_type": "code",
      "source": [
        "thislist = [\"apple\", \"banana\", \"cherry\"]\n",
        "print(thislist)"
      ],
      "metadata": {
        "colab": {
          "base_uri": "https://localhost:8080/"
        },
        "id": "Yg4qMuBy72bN",
        "outputId": "0ccdf182-634b-464b-9eb9-762d1e3540d4"
      },
      "execution_count": null,
      "outputs": [
        {
          "output_type": "stream",
          "name": "stdout",
          "text": [
            "['apple', 'banana', 'cherry']\n"
          ]
        }
      ]
    },
    {
      "cell_type": "code",
      "source": [
        "thislist = [\"apple\", \"banana\", \"cherry\"]\n",
        "print(len(thislist))"
      ],
      "metadata": {
        "colab": {
          "base_uri": "https://localhost:8080/"
        },
        "id": "4ep7V_8O72YV",
        "outputId": "969822e6-6d74-45e7-e516-3b274c0a41f3"
      },
      "execution_count": null,
      "outputs": [
        {
          "output_type": "stream",
          "name": "stdout",
          "text": [
            "3\n"
          ]
        }
      ]
    },
    {
      "cell_type": "code",
      "source": [
        "import numpy as np\n",
        "from matplotlib import pyplot as plt\n",
        "\n",
        "ys = 200 + np.random.randn(100)\n",
        "x = [x for x in range(len(ys))]\n",
        "\n",
        "plt.plot(x, ys, '-')\n",
        "plt.fill_between(x, ys, 195, where=(ys > 195), facecolor='g', alpha=0.6)\n",
        "\n",
        "plt.title(\"Sample Visualization\")\n",
        "plt.show()"
      ],
      "metadata": {
        "id": "JbutxhLu72U8",
        "outputId": "6f9cc11d-6488-4138-8344-0fdd7e437033",
        "colab": {
          "base_uri": "https://localhost:8080/",
          "height": 281
        }
      },
      "execution_count": null,
      "outputs": [
        {
          "output_type": "display_data",
          "data": {
            "image/png": "[encoded data removed]",
            "text/plain": [
              "<Figure size 432x288 with 1 Axes>"
            ]
          },
          "metadata": {
            "needs_background": "light"
          }
        }
      ]
    },
    {
      "cell_type": "code",
      "source": [
        "import matplotlib.pyplot as plt\n",
        "import numpy as np\n",
        "\n",
        "x = np.array([\"A\", \"B\", \"C\", \"D\"])\n",
        "y = np.array([3, 8, 1, 10])\n",
        "\n",
        "plt.bar(x,y)\n",
        "plt.show()"
      ],
      "metadata": {
        "id": "wD2VOIB372Su",
        "colab": {
          "base_uri": "https://localhost:8080/",
          "height": 265
        },
        "outputId": "2fed88e4-8474-4d88-f8ba-5fb96f0ba43d"
      },
      "execution_count": null,
      "outputs": [
        {
          "output_type": "display_data",
          "data": {
            "image/png": "[encoded data removed]",
            "text/plain": [
              "<Figure size 432x288 with 1 Axes>"
            ]
          },
          "metadata": {
            "needs_background": "light"
          }
        }
      ]
    },
    {
      "cell_type": "code",
      "source": [
        "import matplotlib.pyplot as plt\n",
        "import numpy as np\n",
        "\n",
        "x = np.array([\"A\", \"B\", \"C\", \"D\"])\n",
        "y = np.array([3, 8, 1, 10])\n",
        "\n",
        "plt.bar(x, y, color = \"red\")\n",
        "plt.show()"
      ],
      "metadata": {
        "id": "iXhARHU372QT",
        "colab": {
          "base_uri": "https://localhost:8080/",
          "height": 265
        },
        "outputId": "758ba247-e2a4-46df-925f-c73c318e7730"
      },
      "execution_count": null,
      "outputs": [
        {
          "output_type": "display_data",
          "data": {
            "image/png": "[encoded data removed]",
            "text/plain": [
              "<Figure size 432x288 with 1 Axes>"
            ]
          },
          "metadata": {
            "needs_background": "light"
          }
        }
      ]
    },
    {
      "cell_type": "markdown",
      "source": [
        "sort\n"
      ],
      "metadata": {
        "id": "3DNvpBIxx_7V"
      }
    },
    {
      "cell_type": "code",
      "source": [
        "numbers = [20, 10, 16, 6, 89]"
      ],
      "metadata": {
        "id": "GbBH6-Ch72Nt"
      },
      "execution_count": null,
      "outputs": []
    },
    {
      "cell_type": "code",
      "source": [
        "for i in range(0, len(numbers)):\n",
        "    for j in range(i+1, len(numbers)):\n",
        "        if numbers[j] < numbers[i]:\n",
        "          swap(numbers[j],numbers[i])\n",
        "            "
      ],
      "metadata": {
        "id": "8KesG2RRyFU0"
      },
      "execution_count": null,
      "outputs": []
    },
    {
      "cell_type": "code",
      "source": [
        "numbers"
      ],
      "metadata": {
        "colab": {
          "base_uri": "https://localhost:8080/"
        },
        "id": "cUA7uaWiyGVk",
        "outputId": "3b75e452-6cb7-4bb9-dbd1-200df828547d"
      },
      "execution_count": null,
      "outputs": [
        {
          "output_type": "execute_result",
          "data": {
            "text/plain": [
              "[6, 10, 16, 20, 89]"
            ]
          },
          "metadata": {},
          "execution_count": 7
        }
      ]
    },
    {
      "cell_type": "code",
      "source": [
        "numbers = [100, 20, 10, 16, 6, 89]"
      ],
      "metadata": {
        "id": "Lm1AIYoayjMt"
      },
      "execution_count": null,
      "outputs": []
    },
    {
      "cell_type": "code",
      "source": [
        "for i in range(1, len(numbers)):\n",
        "    j = i - 1\n",
        "    curr = numbers[i]\n",
        "    while j >= 0 and curr < numbers[j]:\n",
        "        numbers[j + 1] = numbers[j]\n",
        "        j -= 1\n",
        "    numbers[j+1] = curr"
      ],
      "metadata": {
        "id": "BYYSLybnyjJn"
      },
      "execution_count": null,
      "outputs": []
    },
    {
      "cell_type": "code",
      "source": [
        "numbers"
      ],
      "metadata": {
        "colab": {
          "base_uri": "https://localhost:8080/"
        },
        "id": "4BsrIjAiyjG-",
        "outputId": "75dac772-62cd-4c0f-e69a-49a9c20a04ca"
      },
      "execution_count": null,
      "outputs": [
        {
          "output_type": "execute_result",
          "data": {
            "text/plain": [
              "[6, 10, 16, 20, 89, 100]"
            ]
          },
          "metadata": {},
          "execution_count": 10
        }
      ]
    },
    {
      "cell_type": "code",
      "source": [
        "numbers = [20, 10, 16, 6, 89, 1, 5, 9, 100]"
      ],
      "metadata": {
        "id": "7_86aDzByjDv"
      },
      "execution_count": null,
      "outputs": []
    },
    {
      "cell_type": "code",
      "source": [
        "def divide(numbers, start, end):\n",
        "    if start == end:\n",
        "        return [numbers[start]]\n",
        "    else:\n",
        "        middle = (start + end) // 2\n",
        "        left_numbers = divide(numbers, start, middle) \n",
        "        right_numbers = divide(numbers, middle+1, end)\n",
        "        return conquer(numbers, left_numbers, right_numbers)"
      ],
      "metadata": {
        "id": "0YSUF5GNyjA3"
      },
      "execution_count": null,
      "outputs": []
    },
    {
      "cell_type": "code",
      "source": [
        "def conquer(numbers, left_numbers, right_numbers):\n",
        "    new_nums = []\n",
        "    i = 0\n",
        "    j = 0\n",
        "    while i < len(left_numbers) and j < len(right_numbers):\n",
        "        if left_numbers[i] < right_numbers[j]:\n",
        "            new_nums.append(left_numbers[i])\n",
        "            i += 1\n",
        "        else:\n",
        "            new_nums.append(right_numbers[j])\n",
        "            j += 1\n",
        "    if i < len(left_numbers):\n",
        "        new_nums += left_numbers[i:]\n",
        "        \n",
        "    if j < len(right_numbers):\n",
        "        new_nums += right_numbers[j:]\n",
        "    return new_nums"
      ],
      "metadata": {
        "id": "6AthyGpdyi-E"
      },
      "execution_count": null,
      "outputs": []
    },
    {
      "cell_type": "code",
      "source": [
        "divide(numbers, 0, len(numbers)-1)"
      ],
      "metadata": {
        "colab": {
          "base_uri": "https://localhost:8080/"
        },
        "id": "TgHA42Spyi6k",
        "outputId": "5c70f6d6-788f-4141-80fb-135a25730cba"
      },
      "execution_count": null,
      "outputs": [
        {
          "output_type": "execute_result",
          "data": {
            "text/plain": [
              "[1, 5, 6, 9, 10, 16, 20, 89, 100]"
            ]
          },
          "metadata": {},
          "execution_count": 14
        }
      ]
    },
    {
      "cell_type": "markdown",
      "source": [
        "List"
      ],
      "metadata": {
        "id": "pFXb7a5DWfgf"
      }
    },
    {
      "cell_type": "code",
      "source": [
        "# Cách 1\n",
        "colors_1 = [\"red\", \"blue\", \"green\"]"
      ],
      "metadata": {
        "id": "SKYlxOukyi2Z"
      },
      "execution_count": null,
      "outputs": []
    },
    {
      "cell_type": "code",
      "source": [
        "colors_1"
      ],
      "metadata": {
        "id": "JIhfh3iEyi0D",
        "colab": {
          "base_uri": "https://localhost:8080/"
        },
        "outputId": "015bc435-0561-44ec-ec63-8d94908272f5"
      },
      "execution_count": null,
      "outputs": [
        {
          "output_type": "execute_result",
          "data": {
            "text/plain": [
              "['red', 'blue', 'green']"
            ]
          },
          "metadata": {},
          "execution_count": 2
        }
      ]
    },
    {
      "cell_type": "code",
      "source": [
        "# Cách 2\n",
        "colors_2 = list((\"red\", \"blue\", \"green\"))"
      ],
      "metadata": {
        "id": "wnCg4_ycWb9I"
      },
      "execution_count": null,
      "outputs": []
    },
    {
      "cell_type": "code",
      "source": [
        "colors_2"
      ],
      "metadata": {
        "colab": {
          "base_uri": "https://localhost:8080/"
        },
        "id": "OsTbbRtFWb3l",
        "outputId": "1259cc91-3385-4bb4-d1cb-24e70a254141"
      },
      "execution_count": null,
      "outputs": [
        {
          "output_type": "execute_result",
          "data": {
            "text/plain": [
              "['red', 'blue', 'green']"
            ]
          },
          "metadata": {},
          "execution_count": 5
        }
      ]
    },
    {
      "cell_type": "code",
      "source": [
        "colors_1[0]"
      ],
      "metadata": {
        "colab": {
          "base_uri": "https://localhost:8080/",
          "height": 35
        },
        "id": "7XI-ycQIWbzH",
        "outputId": "aabc728a-ab27-4198-942d-0d27953df004"
      },
      "execution_count": null,
      "outputs": [
        {
          "output_type": "execute_result",
          "data": {
            "application/vnd.google.colaboratory.intrinsic+json": {
              "type": "string"
            },
            "text/plain": [
              "'red'"
            ]
          },
          "metadata": {},
          "execution_count": 6
        }
      ]
    },
    {
      "cell_type": "markdown",
      "source": [
        "Cú pháp: list[begin:end:step]\n",
        "\n",
        "- begin: Chỉ mục của phần tử đầu tiên\n",
        "- end: Chỉ mục của phần tử sau phần tử cuối cùng\n",
        "- step: Khoảng cách chỉ mục của các phần tử sẽ được lấy ra\n",
        "\n",
        "Hàm này sẽ trả về một list mới được cắt từ phần tử ban đầu cho đến trước phần tử kết thúc\n",
        "\n",
        "Chú ý: Việc cắt List này không ảnh hưởng đến List ban đầu"
      ],
      "metadata": {
        "id": "9HUcjEPNW6gi"
      }
    },
    {
      "cell_type": "code",
      "source": [
        "numbers = [1, 2, 3, 4, 5]"
      ],
      "metadata": {
        "id": "wWlGx4FbWbuL"
      },
      "execution_count": null,
      "outputs": []
    },
    {
      "cell_type": "code",
      "source": [
        "numbers"
      ],
      "metadata": {
        "colab": {
          "base_uri": "https://localhost:8080/"
        },
        "id": "4rqngfT9Wbfb",
        "outputId": "7d3af2d4-b973-4829-d675-5c6a16c4db2b"
      },
      "execution_count": null,
      "outputs": [
        {
          "output_type": "execute_result",
          "data": {
            "text/plain": [
              "[1, 2, 3, 4, 5]"
            ]
          },
          "metadata": {},
          "execution_count": 8
        }
      ]
    },
    {
      "cell_type": "code",
      "source": [
        "# Cắt list từ phần tử có chỉ mục là 0 đến phần tử có chỉ mục là 3\n",
        "numbers[0:4]"
      ],
      "metadata": {
        "colab": {
          "base_uri": "https://localhost:8080/"
        },
        "id": "sk3FAV8qXJKw",
        "outputId": "8b83fef0-3c2e-486c-f7f2-a74a0da8057c"
      },
      "execution_count": null,
      "outputs": [
        {
          "output_type": "execute_result",
          "data": {
            "text/plain": [
              "[1, 2, 3, 4]"
            ]
          },
          "metadata": {},
          "execution_count": 9
        }
      ]
    },
    {
      "cell_type": "code",
      "source": [
        "# Kết quả tương đương\n",
        "numbers[0:4:1]"
      ],
      "metadata": {
        "colab": {
          "base_uri": "https://localhost:8080/"
        },
        "id": "OVwL85OsXJIT",
        "outputId": "e9e7bfb0-9dd2-4271-e44f-0f0cd2458e79"
      },
      "execution_count": null,
      "outputs": [
        {
          "output_type": "execute_result",
          "data": {
            "text/plain": [
              "[1, 2, 3, 4]"
            ]
          },
          "metadata": {},
          "execution_count": 10
        }
      ]
    },
    {
      "cell_type": "code",
      "source": [
        "# Cắt list từ phần tử có chỉ mục là 2 đến hết\n",
        "numbers[2:]"
      ],
      "metadata": {
        "colab": {
          "base_uri": "https://localhost:8080/"
        },
        "id": "SafKAZYJXJCo",
        "outputId": "0ec30e58-3e04-4619-ca12-3bed6dea0e66"
      },
      "execution_count": null,
      "outputs": [
        {
          "output_type": "execute_result",
          "data": {
            "text/plain": [
              "[3, 4, 5]"
            ]
          },
          "metadata": {},
          "execution_count": 11
        }
      ]
    },
    {
      "cell_type": "code",
      "source": [
        "# Kết quả tương đương\n",
        "numbers[-3:]"
      ],
      "metadata": {
        "colab": {
          "base_uri": "https://localhost:8080/"
        },
        "id": "METY1gDJXI-k",
        "outputId": "f28ad064-b654-4d99-af91-0fd6c8951ec4"
      },
      "execution_count": null,
      "outputs": [
        {
          "output_type": "execute_result",
          "data": {
            "text/plain": [
              "[3, 4, 5]"
            ]
          },
          "metadata": {},
          "execution_count": 12
        }
      ]
    },
    {
      "cell_type": "code",
      "source": [
        "# Copy cả list\n",
        "numbers[:]"
      ],
      "metadata": {
        "colab": {
          "base_uri": "https://localhost:8080/"
        },
        "id": "VwOvaAsOXI7y",
        "outputId": "8b8ad602-da79-44cb-8d4b-b0b2022639f8"
      },
      "execution_count": null,
      "outputs": [
        {
          "output_type": "execute_result",
          "data": {
            "text/plain": [
              "[1, 2, 3, 4, 5]"
            ]
          },
          "metadata": {},
          "execution_count": 13
        }
      ]
    },
    {
      "cell_type": "code",
      "source": [
        "# Thủ thuật: Đảo ngược list\n",
        "numbers[::-1]"
      ],
      "metadata": {
        "colab": {
          "base_uri": "https://localhost:8080/"
        },
        "id": "4aknL0B8XI4C",
        "outputId": "4ce80043-032e-4dea-bf75-c8ca337e4f82"
      },
      "execution_count": null,
      "outputs": [
        {
          "output_type": "execute_result",
          "data": {
            "text/plain": [
              "[5, 4, 3, 2, 1]"
            ]
          },
          "metadata": {},
          "execution_count": 14
        }
      ]
    },
    {
      "cell_type": "markdown",
      "source": [
        "1. reverse()\n",
        "Đảo ngược vị trí các phần tử trong list"
      ],
      "metadata": {
        "id": "pM7oD7IWXf-F"
      }
    },
    {
      "cell_type": "code",
      "source": [
        "cities = [\"Ha Noi\", \"Ho Chi Minh City\", \"Da Nang\"]"
      ],
      "metadata": {
        "id": "8sIT6wChXI0u"
      },
      "execution_count": null,
      "outputs": []
    },
    {
      "cell_type": "code",
      "source": [
        "cities.reverse()"
      ],
      "metadata": {
        "id": "0NDi1ocNXIyI"
      },
      "execution_count": null,
      "outputs": []
    },
    {
      "cell_type": "code",
      "source": [
        "cities"
      ],
      "metadata": {
        "colab": {
          "base_uri": "https://localhost:8080/"
        },
        "id": "LzpDr_hIXIun",
        "outputId": "0381ad6d-a073-445e-def1-1af90ebace8b"
      },
      "execution_count": null,
      "outputs": [
        {
          "output_type": "execute_result",
          "data": {
            "text/plain": [
              "['Da Nang', 'Ho Chi Minh City', 'Ha Noi']"
            ]
          },
          "metadata": {},
          "execution_count": 17
        }
      ]
    },
    {
      "cell_type": "markdown",
      "source": [
        "2. append()\n",
        "Thêm một phần tử vào cuối list.\n",
        "\n",
        "Chú ý: Hàm này không trả về list mới mà thay đổi trực tiếp list ban đầu"
      ],
      "metadata": {
        "id": "mWZ1SnxmXt4Q"
      }
    },
    {
      "cell_type": "code",
      "source": [
        "cities.append(\"Hai Phong\")"
      ],
      "metadata": {
        "id": "ypt4UXrIXIru"
      },
      "execution_count": null,
      "outputs": []
    },
    {
      "cell_type": "code",
      "source": [
        "cities"
      ],
      "metadata": {
        "colab": {
          "base_uri": "https://localhost:8080/"
        },
        "id": "Ua7Np_kzXIoa",
        "outputId": "80c7d2b1-fa37-43e5-a2eb-7dfd6ba08393"
      },
      "execution_count": null,
      "outputs": [
        {
          "output_type": "execute_result",
          "data": {
            "text/plain": [
              "['Da Nang', 'Ho Chi Minh City', 'Ha Noi', 'Hai Phong']"
            ]
          },
          "metadata": {},
          "execution_count": 19
        }
      ]
    },
    {
      "cell_type": "markdown",
      "source": [
        "3. pop(index)\n",
        "Xóa đi một phần tử của list\n",
        "\n",
        "- Nếu không có index thì hàm sẽ xóa đi phần tử cuối cùng của list\n",
        "- Nếu có index, hàm sẽ xóa đi phần tử với index tương ứng"
      ],
      "metadata": {
        "id": "bJjDjZdoX2F6"
      }
    },
    {
      "cell_type": "code",
      "source": [
        "# Xóa đi phần tử cuối cùng\n",
        "cities.pop()"
      ],
      "metadata": {
        "colab": {
          "base_uri": "https://localhost:8080/",
          "height": 35
        },
        "id": "BmUFplP1XIlU",
        "outputId": "117b7b08-6bd4-4461-a8e5-148b701fe47f"
      },
      "execution_count": null,
      "outputs": [
        {
          "output_type": "execute_result",
          "data": {
            "application/vnd.google.colaboratory.intrinsic+json": {
              "type": "string"
            },
            "text/plain": [
              "'Hai Phong'"
            ]
          },
          "metadata": {},
          "execution_count": 20
        }
      ]
    },
    {
      "cell_type": "code",
      "source": [
        "cities"
      ],
      "metadata": {
        "colab": {
          "base_uri": "https://localhost:8080/"
        },
        "id": "eUXutkmSXIie",
        "outputId": "f1092a73-6cde-444f-a720-429441f36b87"
      },
      "execution_count": null,
      "outputs": [
        {
          "output_type": "execute_result",
          "data": {
            "text/plain": [
              "['Da Nang', 'Ho Chi Minh City', 'Ha Noi']"
            ]
          },
          "metadata": {},
          "execution_count": 21
        }
      ]
    },
    {
      "cell_type": "code",
      "source": [
        "cities.pop(0)"
      ],
      "metadata": {
        "colab": {
          "base_uri": "https://localhost:8080/",
          "height": 35
        },
        "id": "IOs7ALI5XIf-",
        "outputId": "c1083ecf-1ac0-460b-9b46-ae568c4db662"
      },
      "execution_count": null,
      "outputs": [
        {
          "output_type": "execute_result",
          "data": {
            "application/vnd.google.colaboratory.intrinsic+json": {
              "type": "string"
            },
            "text/plain": [
              "'Da Nang'"
            ]
          },
          "metadata": {},
          "execution_count": 22
        }
      ]
    },
    {
      "cell_type": "code",
      "source": [
        "cities"
      ],
      "metadata": {
        "colab": {
          "base_uri": "https://localhost:8080/"
        },
        "id": "Rhry8uvTXIcL",
        "outputId": "1887e07f-eae7-476f-dad8-751ce390048c"
      },
      "execution_count": null,
      "outputs": [
        {
          "output_type": "execute_result",
          "data": {
            "text/plain": [
              "['Ho Chi Minh City', 'Ha Noi']"
            ]
          },
          "metadata": {},
          "execution_count": 23
        }
      ]
    },
    {
      "cell_type": "markdown",
      "source": [
        "4. insert(index, elem)\n",
        "Thêm một phần tử vào list dựa trên một chỉ mục cho trước\n",
        "\n",
        "- index: Vị trí sẽ thêm phần tử mới\n",
        "- elem: Phần tử mới sẽ thêm"
      ],
      "metadata": {
        "id": "3z8mgoJUYIB1"
      }
    },
    {
      "cell_type": "code",
      "source": [
        "clc = [\"Hanoi\", 18, \"Listen to Music\"]\n",
        "# Thêm phần tử chuỗi \"THPT Nhi CHieu\" vào vị trí có chỉ mục là 2\n",
        "clc.insert(2, \"THPT Nhi Chieu\")"
      ],
      "metadata": {
        "id": "Wge62vfSXIZC"
      },
      "execution_count": null,
      "outputs": []
    },
    {
      "cell_type": "code",
      "source": [
        "clc"
      ],
      "metadata": {
        "colab": {
          "base_uri": "https://localhost:8080/"
        },
        "id": "zWrOPWc2XIWA",
        "outputId": "cf3fe718-4528-4e5d-e56d-9939d2698ba6"
      },
      "execution_count": null,
      "outputs": [
        {
          "output_type": "execute_result",
          "data": {
            "text/plain": [
              "['Hanoi', 18, 'THPT Nhi Chieu', 'Listen to Music']"
            ]
          },
          "metadata": {},
          "execution_count": 25
        }
      ]
    },
    {
      "cell_type": "markdown",
      "source": [
        "5. extend(list2)\n",
        "Ghép một list mới vào list hiện tại"
      ],
      "metadata": {
        "id": "7Zs9hfa-YQ14"
      }
    },
    {
      "cell_type": "code",
      "source": [
        "cities = [\"Ha Noi\", \"Ho Chi Minh City\", \"Da Nang\"]\n",
        "cities_2 = [\"Binh Duong\", \"Thanh Hoa\", \"Ba Ria Vung Tau\"]\n",
        "\n",
        "cities.extend(cities_2)"
      ],
      "metadata": {
        "id": "KCQwPZOTXIMG"
      },
      "execution_count": null,
      "outputs": []
    },
    {
      "cell_type": "code",
      "source": [
        "cities"
      ],
      "metadata": {
        "colab": {
          "base_uri": "https://localhost:8080/"
        },
        "id": "wq2vx-RiYUeN",
        "outputId": "b60fe714-0af1-4a77-dd6c-aa1b35566222"
      },
      "execution_count": null,
      "outputs": [
        {
          "output_type": "execute_result",
          "data": {
            "text/plain": [
              "['Ha Noi',\n",
              " 'Ho Chi Minh City',\n",
              " 'Da Nang',\n",
              " 'Binh Duong',\n",
              " 'Thanh Hoa',\n",
              " 'Ba Ria Vung Tau']"
            ]
          },
          "metadata": {},
          "execution_count": 27
        }
      ]
    },
    {
      "cell_type": "markdown",
      "source": [
        "6. index(elem)\n",
        "Tìm kiếm một phần tử cho trước trong list\n",
        "\n",
        "- Trả về chỉ mục của phần tử đó\n",
        "- Throw error nếu phần tử đang tìm kiếm không nằm trong list"
      ],
      "metadata": {
        "id": "gCpBveyeYpf3"
      }
    },
    {
      "cell_type": "code",
      "source": [
        "flowers = [\"hoa hong\", \"hoa lan\", \"hoa hue\"]"
      ],
      "metadata": {
        "id": "1RKyhgJoYXUW"
      },
      "execution_count": null,
      "outputs": []
    },
    {
      "cell_type": "code",
      "source": [
        "flowers.index(\"hoa hong\")"
      ],
      "metadata": {
        "colab": {
          "base_uri": "https://localhost:8080/"
        },
        "id": "7Nvw3ds0YXQ8",
        "outputId": "49e3b71a-1e0e-4c22-ab5a-4abeb1e6a1a4"
      },
      "execution_count": null,
      "outputs": [
        {
          "output_type": "execute_result",
          "data": {
            "text/plain": [
              "0"
            ]
          },
          "metadata": {},
          "execution_count": 29
        }
      ]
    },
    {
      "cell_type": "code",
      "source": [
        "flowers.index(\"hoa lan\")"
      ],
      "metadata": {
        "colab": {
          "base_uri": "https://localhost:8080/"
        },
        "id": "xtAUjo4LYXNB",
        "outputId": "05cc6476-8966-4f09-c19e-12088e10b0ad"
      },
      "execution_count": null,
      "outputs": [
        {
          "output_type": "execute_result",
          "data": {
            "text/plain": [
              "1"
            ]
          },
          "metadata": {},
          "execution_count": 30
        }
      ]
    },
    {
      "cell_type": "markdown",
      "source": [
        "7. remove(elem)\n",
        "Tìm kiếm một phần tử trong list và xóa nó khỏi list\n",
        "\n",
        "- Throw error nếu phần tử đang tìm kiếm không nằm trong list"
      ],
      "metadata": {
        "id": "8EtV4xiMY1fd"
      }
    },
    {
      "cell_type": "code",
      "source": [
        "car_brands = [\"BMW\", \"Toyota\", \"Maserati\"]"
      ],
      "metadata": {
        "id": "FFdeGMSNYXHw"
      },
      "execution_count": null,
      "outputs": []
    },
    {
      "cell_type": "code",
      "source": [
        "car_brands.remove(\"BMW\")"
      ],
      "metadata": {
        "id": "LGCjTGaHYXEq"
      },
      "execution_count": null,
      "outputs": []
    },
    {
      "cell_type": "code",
      "source": [
        "car_brands"
      ],
      "metadata": {
        "colab": {
          "base_uri": "https://localhost:8080/"
        },
        "id": "eygBMMTuYXB3",
        "outputId": "68ce2c49-394f-4611-ae76-749ed1e5818f"
      },
      "execution_count": null,
      "outputs": [
        {
          "output_type": "execute_result",
          "data": {
            "text/plain": [
              "['Toyota', 'Maserati']"
            ]
          },
          "metadata": {},
          "execution_count": 33
        }
      ]
    },
    {
      "cell_type": "markdown",
      "source": [
        "8. sort()\n",
        "Sắp xếp list theo ký tự đầu tiên của từng phần tử\n",
        "\n",
        "- Sắp xếp theo chiều xuôi nếu các phần tử là chuỗi bắt đầu bằng chữ cái trong bảng chữ cái\n",
        "- Sắp xếp từ nhỏ đến lớn nếu các phần tử là integer/float"
      ],
      "metadata": {
        "id": "P-uobG42ZAzq"
      }
    },
    {
      "cell_type": "code",
      "source": [
        "names = [\"Ngoc\", \"An\", \"Van Anh\", \"Binh\"]"
      ],
      "metadata": {
        "id": "PvU9ie1uYW7g"
      },
      "execution_count": null,
      "outputs": []
    },
    {
      "cell_type": "code",
      "source": [
        "names.sort()"
      ],
      "metadata": {
        "id": "VQX8ua_FYW4X"
      },
      "execution_count": null,
      "outputs": []
    },
    {
      "cell_type": "code",
      "source": [
        "names"
      ],
      "metadata": {
        "colab": {
          "base_uri": "https://localhost:8080/"
        },
        "id": "vsnuEk-kYW0b",
        "outputId": "63ccfe0e-2810-47eb-a709-54d3ff3fc79c"
      },
      "execution_count": null,
      "outputs": [
        {
          "output_type": "execute_result",
          "data": {
            "text/plain": [
              "['An', 'Binh', 'Ngoc', 'Van Anh']"
            ]
          },
          "metadata": {},
          "execution_count": 36
        }
      ]
    },
    {
      "cell_type": "code",
      "source": [
        "numbers = [1, 0.8, 0.2, 4, 20]\n",
        "numbers.sort()"
      ],
      "metadata": {
        "id": "Jl-HfetHYWwx"
      },
      "execution_count": null,
      "outputs": []
    },
    {
      "cell_type": "code",
      "source": [
        "numbers"
      ],
      "metadata": {
        "colab": {
          "base_uri": "https://localhost:8080/"
        },
        "id": "Wqp19hrrYWr_",
        "outputId": "53e65cfc-0965-493b-b98a-21f32d64da19"
      },
      "execution_count": null,
      "outputs": [
        {
          "output_type": "execute_result",
          "data": {
            "text/plain": [
              "[0.2, 0.8, 1, 4, 20]"
            ]
          },
          "metadata": {},
          "execution_count": 38
        }
      ]
    },
    {
      "cell_type": "code",
      "source": [
        "addresses = [\"2 Hoang Hoa Tham\", \"30 Tran Thai Tong\", \"11 Nguyen Ngoc Vu\"]\n",
        "addresses.sort()"
      ],
      "metadata": {
        "id": "cup3xnDuYWor"
      },
      "execution_count": null,
      "outputs": []
    },
    {
      "cell_type": "code",
      "source": [
        "addresses"
      ],
      "metadata": {
        "colab": {
          "base_uri": "https://localhost:8080/"
        },
        "id": "cBLJZsZAYWiq",
        "outputId": "19add768-4e48-4875-80e6-96c15ec34d09"
      },
      "execution_count": null,
      "outputs": [
        {
          "output_type": "execute_result",
          "data": {
            "text/plain": [
              "['11 Nguyen Ngoc Vu', '2 Hoang Hoa Tham', '30 Tran Thai Tong']"
            ]
          },
          "metadata": {},
          "execution_count": 40
        }
      ]
    },
    {
      "cell_type": "markdown",
      "source": [
        "9. Thay đổi các phần tử trong list"
      ],
      "metadata": {
        "id": "XOuBQAkpZWlQ"
      }
    },
    {
      "cell_type": "code",
      "source": [
        "my_skills = [\"fullstack\", \"machine learning\", \"devops\", \"chit chat\"]"
      ],
      "metadata": {
        "id": "VV98nrzdZUbu"
      },
      "execution_count": null,
      "outputs": []
    },
    {
      "cell_type": "code",
      "source": [
        "# Thay đổi list từ phần tử có chỉ mục là 2 đến hết\n",
        "my_skills[2:] = [\"public speaking\", \"play piano\"]"
      ],
      "metadata": {
        "id": "gMf5pUVXZUYa"
      },
      "execution_count": null,
      "outputs": []
    },
    {
      "cell_type": "code",
      "source": [
        "my_skills"
      ],
      "metadata": {
        "colab": {
          "base_uri": "https://localhost:8080/"
        },
        "id": "mgEZoAkDZUWC",
        "outputId": "60c3c2f8-5093-4229-f144-3f7b8a4cd0ed"
      },
      "execution_count": null,
      "outputs": [
        {
          "output_type": "execute_result",
          "data": {
            "text/plain": [
              "['fullstack', 'machine learning', 'public speaking', 'play piano']"
            ]
          },
          "metadata": {},
          "execution_count": 43
        }
      ]
    },
    {
      "cell_type": "code",
      "source": [
        "my_skills[3] = \"PR\""
      ],
      "metadata": {
        "id": "C3Zl8DHJZUSO"
      },
      "execution_count": null,
      "outputs": []
    },
    {
      "cell_type": "code",
      "source": [
        "my_skills"
      ],
      "metadata": {
        "colab": {
          "base_uri": "https://localhost:8080/"
        },
        "id": "AGi4NOvNZUP-",
        "outputId": "005db63e-83d3-4531-bac5-0619ca4bdec3"
      },
      "execution_count": null,
      "outputs": [
        {
          "output_type": "execute_result",
          "data": {
            "text/plain": [
              "['fullstack', 'machine learning', 'public speaking', 'PR']"
            ]
          },
          "metadata": {},
          "execution_count": 45
        }
      ]
    },
    {
      "cell_type": "code",
      "source": [
        "# Tương đương với\n",
        "my_skills[-1] = \"PR\""
      ],
      "metadata": {
        "id": "0h6q0rRmZUOB"
      },
      "execution_count": null,
      "outputs": []
    },
    {
      "cell_type": "code",
      "source": [
        "my_skills"
      ],
      "metadata": {
        "colab": {
          "base_uri": "https://localhost:8080/"
        },
        "id": "wzIB1pmFZUFp",
        "outputId": "ede54a38-be4e-4b70-a363-c20a6afa7e64"
      },
      "execution_count": null,
      "outputs": [
        {
          "output_type": "execute_result",
          "data": {
            "text/plain": [
              "['fullstack', 'machine learning', 'public speaking', 'PR']"
            ]
          },
          "metadata": {},
          "execution_count": 47
        }
      ]
    },
    {
      "cell_type": "markdown",
      "source": [
        "V. Các hàm (Functions)\n",
        "1. len()\n",
        "Trả về số lượng phần tử của một list"
      ],
      "metadata": {
        "id": "axLM_fDHZuAC"
      }
    },
    {
      "cell_type": "code",
      "source": [
        "len([\"1\", \"2\", \"3\"])"
      ],
      "metadata": {
        "colab": {
          "base_uri": "https://localhost:8080/"
        },
        "id": "ukto28CKZUBb",
        "outputId": "7c3a89eb-ef68-486d-9e2c-232a6c3a6d43"
      },
      "execution_count": null,
      "outputs": [
        {
          "output_type": "execute_result",
          "data": {
            "text/plain": [
              "3"
            ]
          },
          "metadata": {},
          "execution_count": 48
        }
      ]
    },
    {
      "cell_type": "markdown",
      "source": [
        "2. for in\n",
        "Lặp qua các phần tử của list"
      ],
      "metadata": {
        "id": "LodzJwliZz0N"
      }
    },
    {
      "cell_type": "code",
      "source": [
        "nums = [1, 2, 3, 5]"
      ],
      "metadata": {
        "id": "jDUz57JVZT9q"
      },
      "execution_count": null,
      "outputs": []
    },
    {
      "cell_type": "code",
      "source": [
        "sum = 0\n",
        "for num in nums:\n",
        "    sum = sum + num"
      ],
      "metadata": {
        "id": "bt6qs1DZZT5A"
      },
      "execution_count": null,
      "outputs": []
    },
    {
      "cell_type": "code",
      "source": [
        "sum"
      ],
      "metadata": {
        "colab": {
          "base_uri": "https://localhost:8080/"
        },
        "id": "wlXQ797kZTzs",
        "outputId": "dd097614-0fd5-4582-972f-595008658d07"
      },
      "execution_count": null,
      "outputs": [
        {
          "output_type": "execute_result",
          "data": {
            "text/plain": [
              "11"
            ]
          },
          "metadata": {},
          "execution_count": 51
        }
      ]
    },
    {
      "cell_type": "markdown",
      "source": [
        "3. in\n",
        "Kiểm tra một phần tử tồn tại trong list"
      ],
      "metadata": {
        "id": "7itxBBrxZ9t8"
      }
    },
    {
      "cell_type": "code",
      "source": [
        "if 1 in [1, 2, 3]:\n",
        "    print (\"Found\")"
      ],
      "metadata": {
        "colab": {
          "base_uri": "https://localhost:8080/"
        },
        "id": "7ljs4bPJZTgN",
        "outputId": "c0d55e2a-b3b2-46d0-acea-a72193d1a853"
      },
      "execution_count": null,
      "outputs": [
        {
          "output_type": "stream",
          "name": "stdout",
          "text": [
            "Found\n"
          ]
        }
      ]
    },
    {
      "cell_type": "markdown",
      "source": [
        "4. range(number)\n",
        "Trả về một list integer bắt đầu bằng 0 và kết thúc là (number - 1)"
      ],
      "metadata": {
        "id": "X4I4-p6VaP05"
      }
    },
    {
      "cell_type": "code",
      "source": [
        "range(20)"
      ],
      "metadata": {
        "colab": {
          "base_uri": "https://localhost:8080/"
        },
        "id": "FAmqegbTZTdS",
        "outputId": "15fb66af-228d-47ad-8cef-527ad6beb393"
      },
      "execution_count": null,
      "outputs": [
        {
          "output_type": "execute_result",
          "data": {
            "text/plain": [
              "range(0, 20)"
            ]
          },
          "metadata": {},
          "execution_count": 55
        }
      ]
    },
    {
      "cell_type": "markdown",
      "source": [
        "5. while loop\n",
        "Vòng lặp vô tận"
      ],
      "metadata": {
        "id": "p7TSxHs5aX9g"
      }
    },
    {
      "cell_type": "code",
      "source": [
        "equipments = [\"fridge\", \"air conditional\", \"fan\"]\n",
        "\n",
        "i = 0\n",
        "while i < len(equipments):\n",
        "    print(equipments[i])\n",
        "    i += 1\n",
        "    "
      ],
      "metadata": {
        "colab": {
          "base_uri": "https://localhost:8080/"
        },
        "id": "UBPQOHhzZTaK",
        "outputId": "d7468af1-4795-4c93-c8e0-d4d0e1946c2a"
      },
      "execution_count": null,
      "outputs": [
        {
          "output_type": "stream",
          "name": "stdout",
          "text": [
            "fridge\n",
            "air conditional\n",
            "fan\n"
          ]
        }
      ]
    },
    {
      "cell_type": "markdown",
      "source": [
        "6. map()\n",
        "Trả về một list được tính toán dựa trên điều kiện cho trước"
      ],
      "metadata": {
        "id": "xj7kSXdNafRu"
      }
    },
    {
      "cell_type": "code",
      "source": [
        "nums = [20, 30, 50, 60]"
      ],
      "metadata": {
        "id": "exdLU0P5ZTXK"
      },
      "execution_count": null,
      "outputs": []
    },
    {
      "cell_type": "code",
      "source": [
        "def half(elem):\n",
        "    return elem/2\n",
        "    "
      ],
      "metadata": {
        "id": "1SAxe1d0ZTSq"
      },
      "execution_count": null,
      "outputs": []
    },
    {
      "cell_type": "code",
      "source": [
        "map(half, nums)"
      ],
      "metadata": {
        "id": "VTS_etxlZTP0"
      },
      "execution_count": null,
      "outputs": []
    },
    {
      "cell_type": "markdown",
      "source": [
        "7. filter()\n",
        "Trả về một list được lọc theo một điều kiện cho trước"
      ],
      "metadata": {
        "id": "bj4FPKd8askQ"
      }
    },
    {
      "cell_type": "code",
      "source": [
        "nums2 = [10, -1, 20, -70, 6]"
      ],
      "metadata": {
        "id": "QorflsCqaqB7"
      },
      "execution_count": null,
      "outputs": []
    },
    {
      "cell_type": "code",
      "source": [
        "def filterPositive(elem):\n",
        "    return elem > 0"
      ],
      "metadata": {
        "id": "Yl05NCnfap2q"
      },
      "execution_count": null,
      "outputs": []
    },
    {
      "cell_type": "code",
      "source": [
        "filter(filterPositive, nums2)"
      ],
      "metadata": {
        "id": "daSQn0awapw7"
      },
      "execution_count": null,
      "outputs": []
    },
    {
      "cell_type": "markdown",
      "source": [
        "8. zip()\n",
        "Nhóm các phần tử trong các list ở vị trí có chỉ mục tương ứng, mỗi nhóm trở thành một tuple đồng thời là một phần tử tương ứng trong một list mới"
      ],
      "metadata": {
        "id": "Qgjkklq_bOjA"
      }
    },
    {
      "cell_type": "code",
      "source": [
        "nums3 = [1, 2, 3]"
      ],
      "metadata": {
        "id": "Ktp73EN7aprj"
      },
      "execution_count": null,
      "outputs": []
    },
    {
      "cell_type": "code",
      "source": [
        "foods = [\"sushi\", \"steak\", \"caviar\"]"
      ],
      "metadata": {
        "id": "Zz99G295apnd"
      },
      "execution_count": null,
      "outputs": []
    },
    {
      "cell_type": "code",
      "source": [
        "countries = [\"Japan\", \"US\", \"UK\"]"
      ],
      "metadata": {
        "id": "4UCHL4AMapjc"
      },
      "execution_count": null,
      "outputs": []
    },
    {
      "cell_type": "code",
      "source": [
        "zip(nums3, foods, countries)"
      ],
      "metadata": {
        "id": "Ok3IT4g2ape-"
      },
      "execution_count": null,
      "outputs": []
    },
    {
      "cell_type": "code",
      "source": [
        "class Number:\n",
        "    def __init__(self, val):\n",
        "        self.val = val\n",
        "        self.next = None"
      ],
      "metadata": {
        "id": "78bFxxBkapZJ"
      },
      "execution_count": null,
      "outputs": []
    },
    {
      "cell_type": "code",
      "source": [
        "number1 = Number(1)"
      ],
      "metadata": {
        "id": "8dRubC6AapSi"
      },
      "execution_count": null,
      "outputs": []
    },
    {
      "cell_type": "code",
      "source": [
        "number2 = Number(2)"
      ],
      "metadata": {
        "id": "tihapsdjapKp"
      },
      "execution_count": null,
      "outputs": []
    },
    {
      "cell_type": "code",
      "source": [
        "number3 = Number(3)"
      ],
      "metadata": {
        "id": "GH_ZqR11apG_"
      },
      "execution_count": null,
      "outputs": []
    },
    {
      "cell_type": "code",
      "source": [
        "number1.next = number2"
      ],
      "metadata": {
        "id": "On0DnfoqapDl"
      },
      "execution_count": null,
      "outputs": []
    },
    {
      "cell_type": "code",
      "source": [
        "# Từ number1 truy cập giá trị của nmber2\n",
        "number1.next.val"
      ],
      "metadata": {
        "id": "XYS0H-vpapAX",
        "colab": {
          "base_uri": "https://localhost:8080/"
        },
        "outputId": "83fda89e-2b90-41a9-a481-c4ce49054338"
      },
      "execution_count": null,
      "outputs": [
        {
          "output_type": "execute_result",
          "data": {
            "text/plain": [
              "2"
            ]
          },
          "metadata": {},
          "execution_count": 10
        }
      ]
    },
    {
      "cell_type": "code",
      "source": [
        "currentNode = number1"
      ],
      "metadata": {
        "id": "2da3OBiHao5q"
      },
      "execution_count": null,
      "outputs": []
    },
    {
      "cell_type": "code",
      "source": [
        "thistuple = (\"apple\", \"banana\", \"cherry\")\n",
        "print(thistuple)"
      ],
      "metadata": {
        "colab": {
          "base_uri": "https://localhost:8080/"
        },
        "id": "JfYKxvAG0SI0",
        "outputId": "8cc6802b-041c-4510-e431-9b4f7f64d100"
      },
      "execution_count": null,
      "outputs": [
        {
          "output_type": "stream",
          "name": "stdout",
          "text": [
            "('apple', 'banana', 'cherry')\n"
          ]
        }
      ]
    },
    {
      "cell_type": "code",
      "source": [
        "thistuple = (\"apple\", \"banana\", \"cherry\", \"apple\", \"cherry\")\n",
        "print(thistuple)"
      ],
      "metadata": {
        "colab": {
          "base_uri": "https://localhost:8080/"
        },
        "id": "OvU30qWz0Xys",
        "outputId": "f6025579-e981-433f-d132-0fc53bf8e860"
      },
      "execution_count": null,
      "outputs": [
        {
          "output_type": "stream",
          "name": "stdout",
          "text": [
            "('apple', 'banana', 'cherry', 'apple', 'cherry')\n"
          ]
        }
      ]
    },
    {
      "cell_type": "code",
      "source": [
        "thistuple = (\"apple\", \"banana\", \"cherry\")\n",
        "print(len(thistuple))"
      ],
      "metadata": {
        "colab": {
          "base_uri": "https://localhost:8080/"
        },
        "id": "YP01IMJc0-g7",
        "outputId": "6d45b220-e71b-45fb-b038-64641b5c97a0"
      },
      "execution_count": null,
      "outputs": [
        {
          "output_type": "stream",
          "name": "stdout",
          "text": [
            "3\n"
          ]
        }
      ]
    },
    {
      "cell_type": "code",
      "source": [
        "thistuple = (\"apple\",)\n",
        "print(type(thistuple))\n",
        "\n",
        "#NOT a tuple\n",
        "thistuple = (\"apple\")\n",
        "print(type(thistuple))"
      ],
      "metadata": {
        "colab": {
          "base_uri": "https://localhost:8080/"
        },
        "id": "5e6dr4JM1V8j",
        "outputId": "35cc91c5-4641-4200-da28-57b32ea0f3c7"
      },
      "execution_count": null,
      "outputs": [
        {
          "output_type": "stream",
          "name": "stdout",
          "text": [
            "<class 'tuple'>\n",
            "<class 'str'>\n"
          ]
        }
      ]
    },
    {
      "cell_type": "code",
      "source": [
        "tuple1 = (\"apple\", \"banana\", \"cherry\")\n",
        "tuple2 = (1, 5, 7, 9, 3)\n",
        "tuple3 = (True, False, False)\n",
        "\n",
        "print(tuple1)\n",
        "print(tuple2)\n",
        "print(tuple3)"
      ],
      "metadata": {
        "colab": {
          "base_uri": "https://localhost:8080/"
        },
        "id": "8a4Rd_Dn1pmw",
        "outputId": "25757617-4479-4433-ae0f-f2559ab2bad6"
      },
      "execution_count": null,
      "outputs": [
        {
          "output_type": "stream",
          "name": "stdout",
          "text": [
            "('apple', 'banana', 'cherry')\n",
            "(1, 5, 7, 9, 3)\n",
            "(True, False, False)\n"
          ]
        }
      ]
    },
    {
      "cell_type": "code",
      "source": [
        "tuple1 = (\"abc\", 34, True, 40, \"male\")\n",
        "\n",
        "print(tuple1)"
      ],
      "metadata": {
        "colab": {
          "base_uri": "https://localhost:8080/"
        },
        "id": "RhnhwHLe1pjj",
        "outputId": "a9d21073-e264-4d6d-808e-6505eb36ae36"
      },
      "execution_count": null,
      "outputs": [
        {
          "output_type": "stream",
          "name": "stdout",
          "text": [
            "('abc', 34, True, 40, 'male')\n"
          ]
        }
      ]
    },
    {
      "cell_type": "code",
      "source": [
        ""
      ],
      "metadata": {
        "id": "0qn6JfMQ1pdi"
      },
      "execution_count": null,
      "outputs": []
    },
    {
      "cell_type": "code",
      "source": [
        ""
      ],
      "metadata": {
        "id": "hN7ztQLt1pY6"
      },
      "execution_count": null,
      "outputs": []
    },
    {
      "cell_type": "code",
      "source": [
        ""
      ],
      "metadata": {
        "id": "e3MNdytl1pVo"
      },
      "execution_count": null,
      "outputs": []
    },
    {
      "cell_type": "code",
      "source": [
        ""
      ],
      "metadata": {
        "id": "p_gB9G9P1pSn"
      },
      "execution_count": null,
      "outputs": []
    },
    {
      "cell_type": "code",
      "source": [
        ""
      ],
      "metadata": {
        "id": "LzLEHTJG1pL6"
      },
      "execution_count": null,
      "outputs": []
    }
  ]
}