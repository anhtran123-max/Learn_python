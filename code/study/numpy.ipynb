{
  "nbformat": 4,
  "nbformat_minor": 0,
  "metadata": {
    "colab": {
      "name": "numpy.ipynb",
      "provenance": [],
      "authorship_tag": "ABX9TyN6Obf2t7lNBgdO+KjZAqpe",
      "include_colab_link": true
    },
    "kernelspec": {
      "name": "python3",
      "display_name": "Python 3"
    },
    "language_info": {
      "name": "python"
    }
  },
  "cells": [
    {
      "cell_type": "markdown",
      "metadata": {
        "id": "view-in-github",
        "colab_type": "text"
      },
      "source": [
        "<a href=\"https://colab.research.google.com/github/anhtran123-max/practice_python/blob/master/numpy.ipynb\" target=\"_parent\"><img src=\"https://colab.research.google.com/assets/colab-badge.svg\" alt=\"Open In Colab\"/></a>"
      ]
    },
    {
      "cell_type": "code",
      "execution_count": null,
      "metadata": {
        "id": "nLmZz_bYAM8i"
      },
      "outputs": [],
      "source": [
        "import numpy as np"
      ]
    },
    {
      "cell_type": "code",
      "source": [
        "a = np.array([1, 2, 3]) # Tạo array 1 chi•u\n",
        "print(type(a)) # Prints \"<class 'numpy.ndarray'>\"\n",
        "print(a.shape) # Prints \"(3,)\"\n",
        "print(a[0], a[1], a[2]) # Prints \"1 2 3\"\n",
        "a[0] = 5 # Thay đổi phần tử vị trí số 0\n",
        "print(a) #Prints \"[5, 2, 3]\""
      ],
      "metadata": {
        "colab": {
          "base_uri": "https://localhost:8080/"
        },
        "id": "9B6dCTpZAVrA",
        "outputId": "60205458-dc92-4478-8c3a-d6cd52103504"
      },
      "execution_count": null,
      "outputs": [
        {
          "output_type": "stream",
          "name": "stdout",
          "text": [
            "<class 'numpy.ndarray'>\n",
            "(3,)\n",
            "1 2 3\n",
            "[5 2 3]\n"
          ]
        }
      ]
    },
    {
      "cell_type": "code",
      "source": [
        "b = np.array([[1,2,3],[4,5,6]]) # Tạo array 2 chiều\n",
        "print(b.shape) # Prints \"(2, 3)\"\n",
        "print(b[0, 0], b[0, 1], b[1, 0]) # Prints \"1 2 4\""
      ],
      "metadata": {
        "colab": {
          "base_uri": "https://localhost:8080/"
        },
        "id": "48HhzxwFAVoA",
        "outputId": "59a73d07-1942-4084-82c3-9581da5404b2"
      },
      "execution_count": null,
      "outputs": [
        {
          "output_type": "stream",
          "name": "stdout",
          "text": [
            "(2, 3)\n",
            "1 2 4\n"
          ]
        }
      ]
    },
    {
      "cell_type": "code",
      "source": [
        "a = np.zeros((2,2)) # Tạio array với tất cả các phần tử 0\n",
        "print(a) # Prints \"[[ 0. 0.]"
      ],
      "metadata": {
        "colab": {
          "base_uri": "https://localhost:8080/"
        },
        "id": "kjXKtS1-AVj3",
        "outputId": "f1ec6b69-332d-4a6f-d511-145a6566aef9"
      },
      "execution_count": null,
      "outputs": [
        {
          "output_type": "stream",
          "name": "stdout",
          "text": [
            "[[0. 0.]\n",
            " [0. 0.]]\n"
          ]
        }
      ]
    },
    {
      "cell_type": "code",
      "source": [
        "b = np.ones((1,2)) # Tạo array với các phần tử 1\n",
        "print(b) # Prints \"[[ 1. 1.]]\""
      ],
      "metadata": {
        "colab": {
          "base_uri": "https://localhost:8080/"
        },
        "id": "RpmwJk_8AVcG",
        "outputId": "7beb0a52-2e8f-4c06-ab12-b428b8479d7e"
      },
      "execution_count": null,
      "outputs": [
        {
          "output_type": "stream",
          "name": "stdout",
          "text": [
            "[[1. 1.]]\n"
          ]
        }
      ]
    },
    {
      "cell_type": "code",
      "source": [
        "c = np.full((2,2), 7) # Tạo array với các phần tử 7\n",
        "print(c) # Prints \"[[ 7. 7.]"
      ],
      "metadata": {
        "colab": {
          "base_uri": "https://localhost:8080/"
        },
        "id": "fYQ6sVSRAVIQ",
        "outputId": "c5131a39-db8e-420e-aab7-63ca5e934269"
      },
      "execution_count": null,
      "outputs": [
        {
          "output_type": "stream",
          "name": "stdout",
          "text": [
            "[[7 7]\n",
            " [7 7]]\n"
          ]
        }
      ]
    },
    {
      "cell_type": "code",
      "source": [
        "d = np.eye(2) # Tạo identity matrix kích thước 2*2\n",
        "print(d) # Prints \"[[ 1. 0.]"
      ],
      "metadata": {
        "colab": {
          "base_uri": "https://localhost:8080/"
        },
        "id": "QnEuWZxMBPeD",
        "outputId": "fd6b7803-e9cb-4b7d-c27f-e1095c41fb0e"
      },
      "execution_count": null,
      "outputs": [
        {
          "output_type": "stream",
          "name": "stdout",
          "text": [
            "[[1. 0.]\n",
            " [0. 1.]]\n"
          ]
        }
      ]
    },
    {
      "cell_type": "code",
      "source": [
        "e = np.random.random((2,2)) # Tạo array với các phần tử được tạo ngẫu nhiên\n",
        "print(e) # Might print \"[[ 0.91940167 0.08143941]"
      ],
      "metadata": {
        "colab": {
          "base_uri": "https://localhost:8080/"
        },
        "id": "UniO3qheBPZB",
        "outputId": "1f1bfb48-ffc1-40ac-f1d6-c2f85d3666ae"
      },
      "execution_count": null,
      "outputs": [
        {
          "output_type": "stream",
          "name": "stdout",
          "text": [
            "[[0.92664509 0.58500438]\n",
            " [0.48082358 0.48517519]]\n"
          ]
        }
      ]
    },
    {
      "cell_type": "markdown",
      "source": [
        "## Array indexing\n",
        "Tương tự như list, numpy array cũng có thể slice. Tuy nhiên vì numpy array có nhiều chiều, nên khi dùng slice phải chỉ định rõ chiều nào."
      ],
      "metadata": {
        "id": "-A5agTvuBdyd"
      }
    },
    {
      "cell_type": "code",
      "source": [
        "import numpy as np"
      ],
      "metadata": {
        "id": "p3CpuJQTBPQ7"
      },
      "execution_count": null,
      "outputs": []
    },
    {
      "cell_type": "code",
      "source": [
        "# Tạo array 2 chiều với kích thước (3, 4)\n",
        "# [[ 1 2 3 4]\n",
        "# [ 5 6 7 8]\n",
        "# [ 9 10 11 12]]\n",
        "a = np.array([[1,2,3,4], [5,6,7,8], [9,10,11,12]])"
      ],
      "metadata": {
        "id": "0nQHC_raBPNu"
      },
      "execution_count": null,
      "outputs": []
    },
    {
      "cell_type": "code",
      "source": [
        "# Dùng slide để lấy ra subarray gồm 2 hàng đầu tiên (1 & 2) và 2 cột (2 & 3).\n",
        "# Output là array kích thước 2*2\n",
        "# [[2 3]\n",
        "# [6 7]]\n",
        "b = a[:2, 1:3]"
      ],
      "metadata": {
        "id": "uOQnSs0uBPKw"
      },
      "execution_count": null,
      "outputs": []
    },
    {
      "cell_type": "code",
      "source": [
        "print(a[0, 1]) # Prints \"2\"\n",
        "a[0, 1] = 77 # Chỉnh sửa phần tử trong array\n",
        "print(a[0, 1]) # Prints \"77"
      ],
      "metadata": {
        "colab": {
          "base_uri": "https://localhost:8080/"
        },
        "id": "rP5Z4o6JBPHY",
        "outputId": "93eb5dab-da33-4e6f-ba98-dc7f91f377d3"
      },
      "execution_count": null,
      "outputs": [
        {
          "output_type": "stream",
          "name": "stdout",
          "text": [
            "2\n",
            "77\n"
          ]
        }
      ]
    },
    {
      "cell_type": "code",
      "source": [
        "# Tạo array 2 chiều kích thước (3, 4)\n",
        "# [[ 1 2 3 4]\n",
        "# [ 5 6 7 8]\n",
        "# [ 9 10 11 12]]\n",
        "a = np.array([[1,2,3,4], [5,6,7,8], [9,10,11,12]])"
      ],
      "metadata": {
        "id": "NdtdVVzcCByY"
      },
      "execution_count": null,
      "outputs": []
    },
    {
      "cell_type": "code",
      "source": [
        "row_r1 = a[1, :] # Lấy ra hàng thứ 2 trong a, output array 1 chi•u\n",
        "row_r2 = a[1:2, :] # Lấy ra hàng thứ 1&2 trong a, output array 2 chi•u\n",
        "print(row_r1, row_r1.shape) # Prints \"[5 6 7 8] (4,)\"\n",
        "print(row_r2, row_r2.shape) # Prints \"[[5 6 7 8]] (1, 4)\""
      ],
      "metadata": {
        "colab": {
          "base_uri": "https://localhost:8080/"
        },
        "id": "GcGYJ_6XCBvf",
        "outputId": "1b10bc41-edd2-4303-fb34-531682eac0f5"
      },
      "execution_count": null,
      "outputs": [
        {
          "output_type": "stream",
          "name": "stdout",
          "text": [
            "[5 6 7 8] (4,)\n",
            "[[5 6 7 8]] (1, 4)\n"
          ]
        }
      ]
    },
    {
      "cell_type": "code",
      "source": [
        "x = np.array([[1,2],[3,4]], dtype=np.float64)\n",
        "y = np.array([[5,6],[7,8]], dtype=np.float64)\n",
        "# Tính tổng\n",
        "# [[ 6.0 8.0]\n",
        "# [10.0 12.0]]\n",
        "print(x + y)\n",
        "print(np.add(x, y))\n",
        "# Phép trừ\n",
        "# [[-4.0 -4.0]\n",
        "# [-4.0 -4.0]]\n",
        "print(x - y)\n",
        "print(np.subtract(x, y))\n",
        "# Phép nhân element-wise\n",
        "# [[ 5.0 12.0]\n",
        "# [21.0 32.0]]\n",
        "print(x * y)\n",
        "print(np.multiply(x, y))\n",
        "# Phép chia element-wise\n",
        "# [[ 0.2 0.33333333]\n",
        "# [ 0.42857143 0.5 ]]\n",
        "print(x / y)\n",
        "print(np.divide(x, y))\n",
        "# Tính căn bậc hai\n",
        "# [[ 1. 1.41421356]\n",
        "# [ 1.73205081 2. ]]\n",
        "print(np.sqrt(x))"
      ],
      "metadata": {
        "colab": {
          "base_uri": "https://localhost:8080/"
        },
        "id": "AaYLQIYUCBro",
        "outputId": "b2b064dc-9bce-47af-f5be-775440113009"
      },
      "execution_count": null,
      "outputs": [
        {
          "output_type": "stream",
          "name": "stdout",
          "text": [
            "[[ 6.  8.]\n",
            " [10. 12.]]\n",
            "[[ 6.  8.]\n",
            " [10. 12.]]\n",
            "[[-4. -4.]\n",
            " [-4. -4.]]\n",
            "[[-4. -4.]\n",
            " [-4. -4.]]\n",
            "[[ 5. 12.]\n",
            " [21. 32.]]\n",
            "[[ 5. 12.]\n",
            " [21. 32.]]\n",
            "[[0.2        0.33333333]\n",
            " [0.42857143 0.5       ]]\n",
            "[[0.2        0.33333333]\n",
            " [0.42857143 0.5       ]]\n",
            "[[1.         1.41421356]\n",
            " [1.73205081 2.        ]]\n"
          ]
        }
      ]
    },
    {
      "cell_type": "code",
      "source": [
        "x = np.array([[1,2],[3,4]])\n",
        "y = np.array([[5,6],[7,8]])\n",
        "v = np.array([9,10])\n",
        "w = np.array([11, 12])\n",
        "# Nhân ma trận, output số 219\n",
        "print(v.dot(w))\n",
        "print(np.dot(v, w))\n",
        "# Nhân ma trận; output ma trận 2*2\n",
        "# [[19 22]\n",
        "# [43 50]]\n",
        "print(x.dot(y))\n",
        "print(np.dot(x, y))"
      ],
      "metadata": {
        "colab": {
          "base_uri": "https://localhost:8080/"
        },
        "id": "6T06zclNCBnH",
        "outputId": "9dde3676-af2d-4463-81e7-8cb5a824ebfa"
      },
      "execution_count": null,
      "outputs": [
        {
          "output_type": "stream",
          "name": "stdout",
          "text": [
            "219\n",
            "219\n",
            "[[19 22]\n",
            " [43 50]]\n",
            "[[19 22]\n",
            " [43 50]]\n"
          ]
        }
      ]
    },
    {
      "cell_type": "code",
      "source": [
        "x = np.array([[1,2],[3,4]])\n",
        "print(np.sum(x)) # Tính tổng tất cả các phần tử trong array; prints \"10\"\n",
        "print(np.sum(x, axis=0)) # Tính tổng phần tử mỗi hàng; prints \"[4 6]\"\n",
        "print(np.sum(x, axis=1)) # Tính tổng"
      ],
      "metadata": {
        "colab": {
          "base_uri": "https://localhost:8080/"
        },
        "id": "mbthbEjnCBiT",
        "outputId": "e5df562c-82f7-40d3-8d2b-dc407f275c53"
      },
      "execution_count": null,
      "outputs": [
        {
          "output_type": "stream",
          "name": "stdout",
          "text": [
            "10\n",
            "[4 6]\n",
            "[3 7]\n"
          ]
        }
      ]
    },
    {
      "cell_type": "markdown",
      "source": [
        "## Broadcasting\n",
        "Broadcasting là một kĩ thuật cho phép numpy làm việc với các array có shape khác nhau khi thực\n",
        "hiện các phép toán."
      ],
      "metadata": {
        "id": "v9JHvog1Clx2"
      }
    },
    {
      "cell_type": "code",
      "source": [
        "import numpy as np"
      ],
      "metadata": {
        "id": "a-r3migRCBfK"
      },
      "execution_count": null,
      "outputs": []
    },
    {
      "cell_type": "code",
      "source": [
        "# Cộng vector v với mọi hàng của ma trận x, kết quả lưu ở ma trận y.\n",
        "x = np.array([[1,2,3], [4,5,6], [7,8,9], [10, 11, 12]])\n",
        "v = np.array([1, 0, 1])\n",
        "y = np.empty_like(x) # Tạo 1 array có chiều giống x\n",
        "# Dùng loop để vector v với mỗi hàng của ma trận\n",
        "for i in range(4):\n",
        "  y[i, :] = x[i, :] + v\n",
        "print(y)\n",
        "# Kết quả của y\n",
        "# [[ 2 2 4]\n",
        "# [ 5 5 7]\n",
        "# [ 8 8 10]\n",
        "# [11 11 13]]\n",
        "# Cộng kiểu broadcasting trong python\n",
        "print(x + v)\n",
        "# Két quả\n",
        "# [[ 2 2 4]\n",
        "# [ 5 5 7]\n",
        "# [ 8 8 10]\n",
        "# [11 11 13]]\n",
        "# 2 kết quả cho ra giống nhau"
      ],
      "metadata": {
        "colab": {
          "base_uri": "https://localhost:8080/"
        },
        "id": "A-ebuAapCBbq",
        "outputId": "dec5f523-638b-476c-cb17-1dc9567b36fd"
      },
      "execution_count": null,
      "outputs": [
        {
          "output_type": "stream",
          "name": "stdout",
          "text": [
            "[[ 2  2  4]\n",
            " [ 5  5  7]\n",
            " [ 8  8 10]\n",
            " [11 11 13]]\n",
            "[[ 2  2  4]\n",
            " [ 5  5  7]\n",
            " [ 8  8 10]\n",
            " [11 11 13]]\n"
          ]
        }
      ]
    }
  ]
}